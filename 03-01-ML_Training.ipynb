{
 "cells": [
  {
   "cell_type": "code",
   "execution_count": 1,
   "metadata": {},
   "outputs": [],
   "source": [
    "import joblib\n",
    "import pandas as pd\n",
    "pd.set_option('display.max_colwidth', 100000)"
   ]
  },
  {
   "cell_type": "code",
   "execution_count": 5,
   "metadata": {},
   "outputs": [],
   "source": [
    "data=pd.read_csv('datasets/cleaned_data.csv')"
   ]
  },
  {
   "cell_type": "code",
   "execution_count": 16,
   "metadata": {},
   "outputs": [
    {
     "data": {
      "text/html": [
       "<div>\n",
       "<style scoped>\n",
       "    .dataframe tbody tr th:only-of-type {\n",
       "        vertical-align: middle;\n",
       "    }\n",
       "\n",
       "    .dataframe tbody tr th {\n",
       "        vertical-align: top;\n",
       "    }\n",
       "\n",
       "    .dataframe thead th {\n",
       "        text-align: right;\n",
       "    }\n",
       "</style>\n",
       "<table border=\"1\" class=\"dataframe\">\n",
       "  <thead>\n",
       "    <tr style=\"text-align: right;\">\n",
       "      <th></th>\n",
       "      <th>id</th>\n",
       "      <th>tweet</th>\n",
       "      <th>dialect</th>\n",
       "    </tr>\n",
       "  </thead>\n",
       "  <tbody>\n",
       "    <tr>\n",
       "      <th>306214</th>\n",
       "      <td>1177237306656403712</td>\n",
       "      <td>لحظة خيي وائل نحنا القوميين شلعوطين ونص هون خلينا نكتر اسمالله حزب الله كثار هون بلا حسد يلا احلى فولو للرفيق طاهر</td>\n",
       "      <td>LB</td>\n",
       "    </tr>\n",
       "    <tr>\n",
       "      <th>152065</th>\n",
       "      <td>1114609018469793792</td>\n",
       "      <td>فكرني بشخص في فيسبوك يهبط ديما ستاتيات متع دعاء و ليلة جمعة و يكون الوحيد اللي يحط لايك لروحو و زيد يعمل كومونتار لروحو</td>\n",
       "      <td>TN</td>\n",
       "    </tr>\n",
       "    <tr>\n",
       "      <th>314827</th>\n",
       "      <td>1096698875199537152</td>\n",
       "      <td>يسعد صباحك ست سمر بغض النظر عن رأيي فيه بالسياسة وبعض مواقفه يللي عم يحكيه الاستاذ حبيش عن تشويه السمعة بدون دليل بوافقه الرأي فيه وللأسف متل ما قال انو بيتحول للمطبوعات والمؤسف اكتر حتى لو المظلوم اخد حكم عالمتجني ما بياخد حقه ببعض الاعلام وبتضل الكذبة بعقول العالم</td>\n",
       "      <td>LB</td>\n",
       "    </tr>\n",
       "    <tr>\n",
       "      <th>374661</th>\n",
       "      <td>1155562271084613632</td>\n",
       "      <td>ماعرف اكتب ع الصورة شاوي</td>\n",
       "      <td>OM</td>\n",
       "    </tr>\n",
       "    <tr>\n",
       "      <th>171220</th>\n",
       "      <td>1137964714460364800</td>\n",
       "      <td>فعلاً يسعدلي صباحكك ابو الريكك</td>\n",
       "      <td>JO</td>\n",
       "    </tr>\n",
       "  </tbody>\n",
       "</table>\n",
       "</div>"
      ],
      "text/plain": [
       "                         id  \\\n",
       "306214  1177237306656403712   \n",
       "152065  1114609018469793792   \n",
       "314827  1096698875199537152   \n",
       "374661  1155562271084613632   \n",
       "171220  1137964714460364800   \n",
       "\n",
       "                                                                                                                                                                                                                                                                              tweet  \\\n",
       "306214                                                                                                                                                           لحظة خيي وائل نحنا القوميين شلعوطين ونص هون خلينا نكتر اسمالله حزب الله كثار هون بلا حسد يلا احلى فولو للرفيق طاهر   \n",
       "152065                                                                                                                                                     فكرني بشخص في فيسبوك يهبط ديما ستاتيات متع دعاء و ليلة جمعة و يكون الوحيد اللي يحط لايك لروحو و زيد يعمل كومونتار لروحو    \n",
       "314827   يسعد صباحك ست سمر بغض النظر عن رأيي فيه بالسياسة وبعض مواقفه يللي عم يحكيه الاستاذ حبيش عن تشويه السمعة بدون دليل بوافقه الرأي فيه وللأسف متل ما قال انو بيتحول للمطبوعات والمؤسف اكتر حتى لو المظلوم اخد حكم عالمتجني ما بياخد حقه ببعض الاعلام وبتضل الكذبة بعقول العالم   \n",
       "374661                                                                                                                                                                                                                                                    ماعرف اكتب ع الصورة شاوي    \n",
       "171220                                                                                                                                                                                                                                              فعلاً يسعدلي صباحكك ابو الريكك    \n",
       "\n",
       "       dialect  \n",
       "306214      LB  \n",
       "152065      TN  \n",
       "314827      LB  \n",
       "374661      OM  \n",
       "171220      JO  "
      ]
     },
     "execution_count": 16,
     "metadata": {},
     "output_type": "execute_result"
    }
   ],
   "source": [
    "data.sample(5)"
   ]
  },
  {
   "cell_type": "code",
   "execution_count": 10,
   "metadata": {},
   "outputs": [],
   "source": [
    "from sklearn.model_selection import train_test_split\n",
    "x_train, x_test, y_train, y_test = train_test_split(data['tweet'], data['dialect'], \n",
    "                                                    test_size = 0.01,stratify=data['dialect'],random_state=42)"
   ]
  },
  {
   "cell_type": "code",
   "execution_count": 11,
   "metadata": {},
   "outputs": [
    {
     "data": {
      "text/plain": [
       "Pipeline(steps=[('tfidfvectorizer', TfidfVectorizer()),\n",
       "                ('linearsvc', LinearSVC(class_weight='balanced'))])"
      ]
     },
     "execution_count": 11,
     "metadata": {},
     "output_type": "execute_result"
    }
   ],
   "source": [
    "from sklearn.feature_extraction.text import CountVectorizer, TfidfVectorizer\n",
    "from sklearn.linear_model import LogisticRegression\n",
    "from sklearn.svm import LinearSVC\n",
    "from sklearn.pipeline import make_pipeline\n",
    "\n",
    "\n",
    "vec = TfidfVectorizer() # CountVectorizer()\n",
    "clf = LinearSVC(class_weight = 'balanced')\n",
    "pipe = make_pipeline(vec, clf)\n",
    "pipe.fit(x_train,y_train)"
   ]
  },
  {
   "cell_type": "code",
   "execution_count": 12,
   "metadata": {},
   "outputs": [
    {
     "name": "stdout",
     "output_type": "stream",
     "text": [
      "              precision    recall  f1-score   support\n",
      "\n",
      "          AE       0.44      0.45      0.44       263\n",
      "          BH       0.41      0.37      0.39       263\n",
      "          DZ       0.53      0.56      0.54       162\n",
      "          EG       0.79      0.81      0.80       576\n",
      "          IQ       0.54      0.66      0.59       155\n",
      "          JO       0.40      0.35      0.37       279\n",
      "          KW       0.60      0.53      0.56       421\n",
      "          LB       0.63      0.73      0.68       276\n",
      "          LY       0.70      0.69      0.70       365\n",
      "          MA       0.59      0.63      0.61       115\n",
      "          OM       0.39      0.46      0.42       191\n",
      "          PL       0.60      0.50      0.55       438\n",
      "          QA       0.49      0.52      0.51       311\n",
      "          SA       0.45      0.43      0.44       268\n",
      "          SD       0.62      0.65      0.63       144\n",
      "          SY       0.42      0.45      0.44       163\n",
      "          TN       0.54      0.54      0.54        93\n",
      "          YE       0.25      0.27      0.26        99\n",
      "\n",
      "    accuracy                           0.56      4582\n",
      "   macro avg       0.52      0.53      0.53      4582\n",
      "weighted avg       0.56      0.56      0.55      4582\n",
      "\n"
     ]
    }
   ],
   "source": [
    "from sklearn import metrics\n",
    "\n",
    "def print_report(pipe, x_test, y_test):\n",
    "    y_pred = pipe.predict(x_test)\n",
    "    report = metrics.classification_report(y_test, y_pred)\n",
    "    print(report)\n",
    "    \n",
    "\n",
    "print_report(pipe, x_test, y_test)"
   ]
  },
  {
   "cell_type": "code",
   "execution_count": 13,
   "metadata": {},
   "outputs": [
    {
     "data": {
      "text/plain": [
       "['tfidf-SVM_model.joblib']"
      ]
     },
     "execution_count": 13,
     "metadata": {},
     "output_type": "execute_result"
    }
   ],
   "source": [
    "joblib.dump(pipe,'dialect_api/models/tfidf-SVM_model.joblib', compress=9)"
   ]
  },
  {
   "cell_type": "code",
   "execution_count": 2,
   "metadata": {},
   "outputs": [],
   "source": [
    "ml_model=joblib.load('dialect_api/models/tfidf-SVM_model.joblib')"
   ]
  },
  {
   "cell_type": "code",
   "execution_count": 3,
   "metadata": {},
   "outputs": [
    {
     "data": {
      "text/plain": [
       "array(['EG', 'LY'], dtype=object)"
      ]
     },
     "execution_count": 3,
     "metadata": {},
     "output_type": "execute_result"
    }
   ],
   "source": [
    "ml_model.predict(['ظبط وكلمنى','من وين خوى'])"
   ]
  },
  {
   "cell_type": "code",
   "execution_count": null,
   "metadata": {},
   "outputs": [],
   "source": []
  }
 ],
 "metadata": {
  "kernelspec": {
   "display_name": "Python 3",
   "language": "python",
   "name": "python3"
  },
  "language_info": {
   "codemirror_mode": {
    "name": "ipython",
    "version": 3
   },
   "file_extension": ".py",
   "mimetype": "text/x-python",
   "name": "python",
   "nbconvert_exporter": "python",
   "pygments_lexer": "ipython3",
   "version": "3.8.5"
  }
 },
 "nbformat": 4,
 "nbformat_minor": 4
}
