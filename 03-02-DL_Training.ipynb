{
 "cells": [
  {
   "cell_type": "code",
   "execution_count": 12,
   "metadata": {
    "id": "y2aYwoLQJV2X"
   },
   "outputs": [],
   "source": [
    "import pandas as pd\n",
    "import numpy as np\n",
    "import joblib\n",
    "pd.set_option('display.max_colwidth', 100000)"
   ]
  },
  {
   "cell_type": "code",
   "execution_count": 13,
   "metadata": {
    "id": "1a-ucftchSVQ"
   },
   "outputs": [],
   "source": [
    "import tensorflow as tf\n",
    "from sklearn.preprocessing import LabelEncoder"
   ]
  },
  {
   "cell_type": "code",
   "execution_count": 32,
   "metadata": {
    "id": "6KUx5wqNJFkl"
   },
   "outputs": [],
   "source": [
    "data=pd.read_csv('datasets/cleaned_data.csv')"
   ]
  },
  {
   "cell_type": "code",
   "execution_count": 44,
   "metadata": {
    "colab": {
     "base_uri": "https://localhost:8080/",
     "height": 268
    },
    "id": "oFQhvfCIJxtS",
    "outputId": "e3787c48-fafb-439b-df95-c2680c6a0d56"
   },
   "outputs": [
    {
     "data": {
      "text/html": [
       "\n",
       "  <div id=\"df-9076c1cb-36ca-48d8-8a25-ca67fa0c6b4a\">\n",
       "    <div class=\"colab-df-container\">\n",
       "      <div>\n",
       "<style scoped>\n",
       "    .dataframe tbody tr th:only-of-type {\n",
       "        vertical-align: middle;\n",
       "    }\n",
       "\n",
       "    .dataframe tbody tr th {\n",
       "        vertical-align: top;\n",
       "    }\n",
       "\n",
       "    .dataframe thead th {\n",
       "        text-align: right;\n",
       "    }\n",
       "</style>\n",
       "<table border=\"1\" class=\"dataframe\">\n",
       "  <thead>\n",
       "    <tr style=\"text-align: right;\">\n",
       "      <th></th>\n",
       "      <th>id</th>\n",
       "      <th>tweet</th>\n",
       "      <th>dialect</th>\n",
       "    </tr>\n",
       "  </thead>\n",
       "  <tbody>\n",
       "    <tr>\n",
       "      <th>137591</th>\n",
       "      <td>459965239623422016</td>\n",
       "      <td>اهلا فيك اخوي انا الحمد الله بخير ومشتاق للجميع والله</td>\n",
       "      <td>SY</td>\n",
       "    </tr>\n",
       "    <tr>\n",
       "      <th>236930</th>\n",
       "      <td>771098650604961792</td>\n",
       "      <td>للاسف ايام ما ترجع الزمن الجميل</td>\n",
       "      <td>DZ</td>\n",
       "    </tr>\n",
       "    <tr>\n",
       "      <th>21891</th>\n",
       "      <td>1164225427713462272</td>\n",
       "      <td>فكرت في اي تي طلع اول سمستر حديد يحك في بعضه</td>\n",
       "      <td>LY</td>\n",
       "    </tr>\n",
       "    <tr>\n",
       "      <th>341777</th>\n",
       "      <td>1088588079215067136</td>\n",
       "      <td>النومه اليوم بدون ألارم من غير شر</td>\n",
       "      <td>KW</td>\n",
       "    </tr>\n",
       "    <tr>\n",
       "      <th>307445</th>\n",
       "      <td>1075864530255798400</td>\n",
       "      <td>يلي مفكر ينزل يتظاهر هلاء واكيد معو حق فيا لأن الوضع فعلا ماعاد ينحمل بس بحب قلو الله يقويك بس نازلين معك ناس انت بالاساس نازل ضد تسلطن وفسادن راجع حساباتك صديقي وبكل الاحوال الطقس رح يكون عاطل</td>\n",
       "      <td>LB</td>\n",
       "    </tr>\n",
       "  </tbody>\n",
       "</table>\n",
       "</div>\n",
       "      <button class=\"colab-df-convert\" onclick=\"convertToInteractive('df-9076c1cb-36ca-48d8-8a25-ca67fa0c6b4a')\"\n",
       "              title=\"Convert this dataframe to an interactive table.\"\n",
       "              style=\"display:none;\">\n",
       "        \n",
       "  <svg xmlns=\"http://www.w3.org/2000/svg\" height=\"24px\"viewBox=\"0 0 24 24\"\n",
       "       width=\"24px\">\n",
       "    <path d=\"M0 0h24v24H0V0z\" fill=\"none\"/>\n",
       "    <path d=\"M18.56 5.44l.94 2.06.94-2.06 2.06-.94-2.06-.94-.94-2.06-.94 2.06-2.06.94zm-11 1L8.5 8.5l.94-2.06 2.06-.94-2.06-.94L8.5 2.5l-.94 2.06-2.06.94zm10 10l.94 2.06.94-2.06 2.06-.94-2.06-.94-.94-2.06-.94 2.06-2.06.94z\"/><path d=\"M17.41 7.96l-1.37-1.37c-.4-.4-.92-.59-1.43-.59-.52 0-1.04.2-1.43.59L10.3 9.45l-7.72 7.72c-.78.78-.78 2.05 0 2.83L4 21.41c.39.39.9.59 1.41.59.51 0 1.02-.2 1.41-.59l7.78-7.78 2.81-2.81c.8-.78.8-2.07 0-2.86zM5.41 20L4 18.59l7.72-7.72 1.47 1.35L5.41 20z\"/>\n",
       "  </svg>\n",
       "      </button>\n",
       "      \n",
       "  <style>\n",
       "    .colab-df-container {\n",
       "      display:flex;\n",
       "      flex-wrap:wrap;\n",
       "      gap: 12px;\n",
       "    }\n",
       "\n",
       "    .colab-df-convert {\n",
       "      background-color: #E8F0FE;\n",
       "      border: none;\n",
       "      border-radius: 50%;\n",
       "      cursor: pointer;\n",
       "      display: none;\n",
       "      fill: #1967D2;\n",
       "      height: 32px;\n",
       "      padding: 0 0 0 0;\n",
       "      width: 32px;\n",
       "    }\n",
       "\n",
       "    .colab-df-convert:hover {\n",
       "      background-color: #E2EBFA;\n",
       "      box-shadow: 0px 1px 2px rgba(60, 64, 67, 0.3), 0px 1px 3px 1px rgba(60, 64, 67, 0.15);\n",
       "      fill: #174EA6;\n",
       "    }\n",
       "\n",
       "    [theme=dark] .colab-df-convert {\n",
       "      background-color: #3B4455;\n",
       "      fill: #D2E3FC;\n",
       "    }\n",
       "\n",
       "    [theme=dark] .colab-df-convert:hover {\n",
       "      background-color: #434B5C;\n",
       "      box-shadow: 0px 1px 3px 1px rgba(0, 0, 0, 0.15);\n",
       "      filter: drop-shadow(0px 1px 2px rgba(0, 0, 0, 0.3));\n",
       "      fill: #FFFFFF;\n",
       "    }\n",
       "  </style>\n",
       "\n",
       "      <script>\n",
       "        const buttonEl =\n",
       "          document.querySelector('#df-9076c1cb-36ca-48d8-8a25-ca67fa0c6b4a button.colab-df-convert');\n",
       "        buttonEl.style.display =\n",
       "          google.colab.kernel.accessAllowed ? 'block' : 'none';\n",
       "\n",
       "        async function convertToInteractive(key) {\n",
       "          const element = document.querySelector('#df-9076c1cb-36ca-48d8-8a25-ca67fa0c6b4a');\n",
       "          const dataTable =\n",
       "            await google.colab.kernel.invokeFunction('convertToInteractive',\n",
       "                                                     [key], {});\n",
       "          if (!dataTable) return;\n",
       "\n",
       "          const docLinkHtml = 'Like what you see? Visit the ' +\n",
       "            '<a target=\"_blank\" href=https://colab.research.google.com/notebooks/data_table.ipynb>data table notebook</a>'\n",
       "            + ' to learn more about interactive tables.';\n",
       "          element.innerHTML = '';\n",
       "          dataTable['output_type'] = 'display_data';\n",
       "          await google.colab.output.renderOutput(dataTable, element);\n",
       "          const docLink = document.createElement('div');\n",
       "          docLink.innerHTML = docLinkHtml;\n",
       "          element.appendChild(docLink);\n",
       "        }\n",
       "      </script>\n",
       "    </div>\n",
       "  </div>\n",
       "  "
      ],
      "text/plain": [
       "                         id  \\\n",
       "137591   459965239623422016   \n",
       "236930   771098650604961792   \n",
       "21891   1164225427713462272   \n",
       "341777  1088588079215067136   \n",
       "307445  1075864530255798400   \n",
       "\n",
       "                                                                                                                                                                                                    tweet  \\\n",
       "137591                                                                                                                                             اهلا فيك اخوي انا الحمد الله بخير ومشتاق للجميع والله    \n",
       "236930                                                                                                                                                                    للاسف ايام ما ترجع الزمن الجميل   \n",
       "21891                                                                                                                                                        فكرت في اي تي طلع اول سمستر حديد يحك في بعضه   \n",
       "341777                                                                                                                                                                 النومه اليوم بدون ألارم من غير شر    \n",
       "307445  يلي مفكر ينزل يتظاهر هلاء واكيد معو حق فيا لأن الوضع فعلا ماعاد ينحمل بس بحب قلو الله يقويك بس نازلين معك ناس انت بالاساس نازل ضد تسلطن وفسادن راجع حساباتك صديقي وبكل الاحوال الطقس رح يكون عاطل   \n",
       "\n",
       "       dialect  \n",
       "137591      SY  \n",
       "236930      DZ  \n",
       "21891       LY  \n",
       "341777      KW  \n",
       "307445      LB  "
      ]
     },
     "execution_count": 44,
     "metadata": {},
     "output_type": "execute_result"
    }
   ],
   "source": [
    "data.sample(5)"
   ]
  },
  {
   "cell_type": "code",
   "execution_count": 33,
   "metadata": {
    "id": "gjp-Gv_Afqd7"
   },
   "outputs": [],
   "source": [
    "# count words in each tweet\n",
    "len_texts=[]\n",
    "for text in data['tweet']:\n",
    "  len_texts.append(len(text.split()))\n",
    "  "
   ]
  },
  {
   "cell_type": "code",
   "execution_count": 34,
   "metadata": {
    "colab": {
     "base_uri": "https://localhost:8080/"
    },
    "id": "bnDYJML_3urN",
    "outputId": "d562245c-a405-4664-b90c-1bd42cab2158"
   },
   "outputs": [
    {
     "name": "stdout",
     "output_type": "stream",
     "text": [
      "[(4, 43663), (5, 41703), (6, 38200), (7, 33711), (8, 30146), (9, 26460), (10, 24110), (11, 21526), (12, 19310), (13, 16807), (14, 14906), (15, 13083), (16, 11970), (17, 10752), (18, 10020), (19, 9566), (20, 9276), (21, 9033), (22, 8426), (23, 7627), (24, 6744), (25, 5639), (26, 4744), (27, 3787), (28, 3013), (29, 2514), (30, 2261), (31, 1936), (32, 1806), (33, 1682), (34, 1530), (35, 1447), (36, 1446), (37, 1366), (38, 1278), (39, 1214), (47, 1210), (40, 1178), (41, 1160), (44, 1152), (46, 1151), (45, 1136), (42, 1107), (43, 1099), (48, 1090), (49, 1046), (50, 979), (51, 819), (52, 730), (53, 583), (54, 377), (55, 274), (56, 149), (57, 107), (58, 56), (59, 49), (60, 22), (61, 6), (62, 5), (65, 2), (68, 2), (63, 2), (64, 1), (0, 1), (88, 1), (70, 1)]\n"
     ]
    }
   ],
   "source": [
    "from collections import Counter\n",
    "count = Counter(len_texts) \n",
    "print(count.most_common())\n"
   ]
  },
  {
   "cell_type": "code",
   "execution_count": 4,
   "metadata": {
    "id": "BrIiDw-X5vM_"
   },
   "outputs": [],
   "source": [
    "data.drop(data[data['tweet']==' '].index,inplace=True) #drop one row with 0 words in tweet column\n"
   ]
  },
  {
   "cell_type": "code",
   "execution_count": null,
   "metadata": {
    "id": "42Wy2E1GHd5V"
   },
   "outputs": [],
   "source": [
    "encoder = LabelEncoder()\n",
    "y_encoded = encoder.fit_transform(data['dialect'])"
   ]
  },
  {
   "cell_type": "code",
   "execution_count": 6,
   "metadata": {
    "id": "KEn-stL7KcAI"
   },
   "outputs": [],
   "source": [
    "from sklearn.model_selection import train_test_split\n",
    "x_train, x_test, y_train, y_test = train_test_split(data['tweet'],\n",
    "                                                    y_encoded,\n",
    "                                                    test_size = 0.01,\n",
    "                                                    stratify=y_encoded,\n",
    "                                                    random_state=42)"
   ]
  },
  {
   "cell_type": "code",
   "execution_count": 7,
   "metadata": {
    "id": "usozTVhjoLOY"
   },
   "outputs": [],
   "source": [
    "#convert y to categorical like one-hot-encoding\n",
    "y_train_encoded = tf.keras.utils.to_categorical(y_train) \n",
    "y_test_encoded = tf.keras.utils.to_categorical(y_test)"
   ]
  },
  {
   "cell_type": "code",
   "execution_count": 8,
   "metadata": {
    "id": "ie-eSfVToClQ"
   },
   "outputs": [],
   "source": [
    "max_words = 1000\n",
    "max_len = 50\n",
    "tok = tf.keras.preprocessing.text.Tokenizer(num_words=max_words)\n",
    "tok.fit_on_texts(x_train)\n",
    "sequences = tok.texts_to_sequences(x_train)\n",
    "X_train_seq = tf.keras.preprocessing.sequence.pad_sequences(sequences,maxlen=max_len)"
   ]
  },
  {
   "cell_type": "code",
   "execution_count": null,
   "metadata": {
    "id": "jCBOiC-noN6K"
   },
   "outputs": [],
   "source": [
    "lstm_bi = tf.keras.models.Sequential([    \n",
    "    tf.keras.layers.Embedding(max_words, 64),\n",
    "    tf.keras.layers.Bidirectional(tf.keras.layers.LSTM(64)),\n",
    "    tf.keras.layers.Dense(64, activation='relu'),\n",
    "    tf.keras.layers.Dense(max(y_encoded)+1, activation='softmax')\n",
    "])"
   ]
  },
  {
   "cell_type": "code",
   "execution_count": null,
   "metadata": {
    "id": "b8eOHnttugHz"
   },
   "outputs": [],
   "source": [
    "lstm_bi.compile(loss='categorical_crossentropy',\n",
    "              optimizer=tf.keras.optimizers.Adam(),\n",
    "              metrics=['accuracy'])"
   ]
  },
  {
   "cell_type": "code",
   "execution_count": null,
   "metadata": {
    "colab": {
     "base_uri": "https://localhost:8080/"
    },
    "id": "yivFlqmOy-jp",
    "outputId": "2aa0f0cd-2f54-4e0e-d6d1-d74a408a3bf6"
   },
   "outputs": [
    {
     "name": "stdout",
     "output_type": "stream",
     "text": [
      "Epoch 1/5\n",
      "11341/11341 [==============================] - 690s 60ms/step - loss: 2.1196 - accuracy: 0.3271 - val_loss: 2.0151 - val_accuracy: 0.3595\n",
      "Epoch 2/5\n",
      "11341/11341 [==============================] - 713s 63ms/step - loss: 1.9892 - accuracy: 0.3658 - val_loss: 1.9810 - val_accuracy: 0.3679\n"
     ]
    }
   ],
   "source": [
    "history = lstm_bi.fit(X_train_seq, y_train_encoded, epochs=5,\n",
    "                     validation_split=0.2,\n",
    "                      callbacks=[tf.keras.callbacks.EarlyStopping(monitor='val_loss',min_delta=0.0001)])"
   ]
  },
  {
   "cell_type": "code",
   "execution_count": null,
   "metadata": {
    "colab": {
     "base_uri": "https://localhost:8080/"
    },
    "id": "wenmv-01-70Q",
    "outputId": "7e12c16d-9aa8-4c0d-9d30-eedeec77788b"
   },
   "outputs": [
    {
     "name": "stdout",
     "output_type": "stream",
     "text": [
      "144/144 [==============================] - 2s 15ms/step - loss: 1.9487 - accuracy: 0.3719\n",
      "Test set\n",
      "  Loss: 1.949\n",
      "  Accuracy: 0.372\n"
     ]
    }
   ],
   "source": [
    "test_sequences = tok.texts_to_sequences(x_test)\n",
    "test_sequences_matrix = tf.keras.preprocessing.sequence.pad_sequences(test_sequences,maxlen=max_len)\n",
    "accr = lstm_bi.evaluate(test_sequences_matrix,y_test_encoded)\n",
    "print('Test set\\n  Loss: {:0.3f}\\n  Accuracy: {:0.3f}'.format(accr[0],accr[1]))"
   ]
  },
  {
   "cell_type": "code",
   "execution_count": 26,
   "metadata": {
    "colab": {
     "base_uri": "https://localhost:8080/"
    },
    "id": "HEHQklvzvrR7",
    "outputId": "4baedf5c-4bca-4d7b-a45f-9eaa15681219"
   },
   "outputs": [
    {
     "data": {
      "text/plain": [
       "['dialect_api/models/LabelEncoder.joblib']"
      ]
     },
     "execution_count": 26,
     "metadata": {},
     "output_type": "execute_result"
    }
   ],
   "source": [
    "joblib.dump(encoder,'dialect_api/models/LabelEncoder.joblib',compress=9) #save label encoder "
   ]
  },
  {
   "cell_type": "code",
   "execution_count": 27,
   "metadata": {
    "colab": {
     "base_uri": "https://localhost:8080/"
    },
    "id": "MLJ80XalAbBF",
    "outputId": "a82ba0f2-ccd2-40a1-faec-a18efe1f85ae"
   },
   "outputs": [
    {
     "data": {
      "text/plain": [
       "['dialect_api/models/tokenizer.joblib']"
      ]
     },
     "execution_count": 27,
     "metadata": {},
     "output_type": "execute_result"
    }
   ],
   "source": [
    "joblib.dump(tok,'dialect_api/models/tokenizer.joblib',compress=9) #save tokenizer"
   ]
  },
  {
   "cell_type": "code",
   "execution_count": null,
   "metadata": {
    "id": "H916b2Ds1Trr"
   },
   "outputs": [],
   "source": [
    "lstm_bi.save('dialect_api/models/lstm_bi.h5') #save lstm model"
   ]
  },
  {
   "cell_type": "markdown",
   "metadata": {
    "id": "dznYTy4NFNxJ"
   },
   "source": [
    "### try to load model and test prediction"
   ]
  },
  {
   "cell_type": "code",
   "execution_count": 16,
   "metadata": {
    "id": "e14Xp6ZJ8FIP"
   },
   "outputs": [],
   "source": [
    "lstmBi_model = tf.keras.models.load_model('dialect_api/models/lstm_bi.h5')\n",
    "tokin=joblib.load('dialect_api/models/tokenizer.joblib')\n",
    "le=joblib.load('dialect_api/models/LabelEncoder.joblib')"
   ]
  },
  {
   "cell_type": "code",
   "execution_count": 45,
   "metadata": {
    "id": "AQo8heX1DrAf"
   },
   "outputs": [],
   "source": [
    "texts=['اشتاقتلك خوى','المجتمع ديالنا بكل صراحة صعيب بزاف']"
   ]
  },
  {
   "cell_type": "code",
   "execution_count": 46,
   "metadata": {
    "colab": {
     "base_uri": "https://localhost:8080/"
    },
    "id": "2IJFKNJBDqyK",
    "outputId": "89ab5708-c129-40ec-ff26-afad12e68e04"
   },
   "outputs": [
    {
     "data": {
      "text/plain": [
       "[{'prediction': 'KW', 'text': 'اشتاقتلك خوى'},\n",
       " {'prediction': 'LB', 'text': 'المجتمع ديالنا بكل صراحة صعيب بزاف'}]"
      ]
     },
     "execution_count": 46,
     "metadata": {},
     "output_type": "execute_result"
    }
   ],
   "source": [
    "sequences = tokin.texts_to_sequences(texts)\n",
    "seq = tf.keras.preprocessing.sequence.pad_sequences(sequences,maxlen=50)\n",
    "pred=np.argsort(lstmBi_model.predict(seq))\n",
    "response=[]\n",
    "for i,t in enumerate(texts):\n",
    "  class_num=pred[i][-1]\n",
    "  row_pred = {}\n",
    "  row_pred['text'] = t\n",
    "  row_pred['prediction'] = le.inverse_transform([class_num])[0]\n",
    "  response.append(row_pred)\n",
    "\n",
    "response"
   ]
  },
  {
   "cell_type": "code",
   "execution_count": null,
   "metadata": {},
   "outputs": [],
   "source": []
  }
 ],
 "metadata": {
  "colab": {
   "name": "dialect.ipynb",
   "provenance": []
  },
  "kernelspec": {
   "display_name": "Python 3",
   "language": "python",
   "name": "python3"
  },
  "language_info": {
   "codemirror_mode": {
    "name": "ipython",
    "version": 3
   },
   "file_extension": ".py",
   "mimetype": "text/x-python",
   "name": "python",
   "nbconvert_exporter": "python",
   "pygments_lexer": "ipython3",
   "version": "3.8.5"
  }
 },
 "nbformat": 4,
 "nbformat_minor": 1
}
